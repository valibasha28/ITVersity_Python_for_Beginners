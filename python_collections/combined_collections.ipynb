{
 "cells": [
  {
   "cell_type": "code",
   "execution_count": 1,
   "metadata": {},
   "outputs": [],
   "source": [
    "coordinates = {(1,2):'A', (3,4):'B'}"
   ]
  },
  {
   "cell_type": "code",
   "execution_count": 2,
   "metadata": {},
   "outputs": [
    {
     "data": {
      "text/plain": [
       "{(1, 2): 'A', (3, 4): 'B'}"
      ]
     },
     "execution_count": 2,
     "metadata": {},
     "output_type": "execute_result"
    }
   ],
   "source": [
    "coordinates"
   ]
  },
  {
   "cell_type": "code",
   "execution_count": 3,
   "metadata": {},
   "outputs": [
    {
     "data": {
      "text/plain": [
       "'A'"
      ]
     },
     "execution_count": 3,
     "metadata": {},
     "output_type": "execute_result"
    }
   ],
   "source": [
    "coordinates[(1,2)]"
   ]
  },
  {
   "cell_type": "code",
   "execution_count": 4,
   "metadata": {},
   "outputs": [],
   "source": [
    "students = [\n",
    "    {'name':'Alice', 'age':20},\n",
    "    {'name':'Bob', 'age':21}\n",
    "]"
   ]
  },
  {
   "cell_type": "code",
   "execution_count": 5,
   "metadata": {},
   "outputs": [
    {
     "data": {
      "text/plain": [
       "list"
      ]
     },
     "execution_count": 5,
     "metadata": {},
     "output_type": "execute_result"
    }
   ],
   "source": [
    "type(students)"
   ]
  },
  {
   "cell_type": "code",
   "execution_count": 6,
   "metadata": {},
   "outputs": [
    {
     "data": {
      "text/plain": [
       "{'name': 'Alice', 'age': 20}"
      ]
     },
     "execution_count": 6,
     "metadata": {},
     "output_type": "execute_result"
    }
   ],
   "source": [
    "students[0]"
   ]
  },
  {
   "cell_type": "code",
   "execution_count": 7,
   "metadata": {},
   "outputs": [
    {
     "data": {
      "text/plain": [
       "'Bob'"
      ]
     },
     "execution_count": 7,
     "metadata": {},
     "output_type": "execute_result"
    }
   ],
   "source": [
    "students[1]['name']"
   ]
  },
  {
   "cell_type": "code",
   "execution_count": 8,
   "metadata": {},
   "outputs": [],
   "source": [
    "user_permissions = {\n",
    "    'user1': {'read', 'write'},\n",
    "    'user2': {'read'}\n",
    "}"
   ]
  },
  {
   "cell_type": "code",
   "execution_count": 9,
   "metadata": {},
   "outputs": [
    {
     "data": {
      "text/plain": [
       "dict"
      ]
     },
     "execution_count": 9,
     "metadata": {},
     "output_type": "execute_result"
    }
   ],
   "source": [
    "type(user_permissions)"
   ]
  },
  {
   "cell_type": "code",
   "execution_count": 10,
   "metadata": {},
   "outputs": [
    {
     "data": {
      "text/plain": [
       "{'read', 'write'}"
      ]
     },
     "execution_count": 10,
     "metadata": {},
     "output_type": "execute_result"
    }
   ],
   "source": [
    "user_permissions['user1']"
   ]
  },
  {
   "cell_type": "code",
   "execution_count": 11,
   "metadata": {},
   "outputs": [
    {
     "data": {
      "text/plain": [
       "{'execute', 'read', 'write'}"
      ]
     },
     "execution_count": 11,
     "metadata": {},
     "output_type": "execute_result"
    }
   ],
   "source": [
    "user_permissions['user1'].add('execute')\n",
    "user_permissions['user1']"
   ]
  },
  {
   "cell_type": "code",
   "execution_count": 12,
   "metadata": {},
   "outputs": [],
   "source": [
    "employees = [\n",
    "    {'name': 'Alice', 'department': 'HR'},\n",
    "    {'name': 'Bob', 'department': 'IT'}\n",
    "]"
   ]
  },
  {
   "cell_type": "code",
   "execution_count": 13,
   "metadata": {},
   "outputs": [
    {
     "name": "stdout",
     "output_type": "stream",
     "text": [
      "Alice HR\n",
      "Bob IT\n"
     ]
    }
   ],
   "source": [
    "for employee in employees:\n",
    "    print(employee['name'], employee['department'])"
   ]
  },
  {
   "cell_type": "code",
   "execution_count": 14,
   "metadata": {},
   "outputs": [],
   "source": [
    "department_employess = {\n",
    "    'HR': ['Alice', 'Bob'],\n",
    "    'IT': ['Tom', 'Jane']\n",
    "}"
   ]
  },
  {
   "cell_type": "code",
   "execution_count": 15,
   "metadata": {},
   "outputs": [
    {
     "name": "stdout",
     "output_type": "stream",
     "text": [
      "HR ['Alice', 'Bob']\n",
      "IT ['Tom', 'Jane']\n"
     ]
    }
   ],
   "source": [
    "for department, employees in department_employess.items():\n",
    "    print(department, employees)"
   ]
  },
  {
   "cell_type": "code",
   "execution_count": 16,
   "metadata": {},
   "outputs": [
    {
     "name": "stdout",
     "output_type": "stream",
     "text": [
      "HR 2\n",
      "IT 2\n"
     ]
    }
   ],
   "source": [
    "for department, employees in department_employess.items():\n",
    "    print(department, len(employees))"
   ]
  },
  {
   "cell_type": "code",
   "execution_count": 17,
   "metadata": {},
   "outputs": [],
   "source": [
    "company = {\n",
    "    'HR': {'manager': 'Alice', 'employees': 5},\n",
    "    'IT': {'manager': 'Bob', 'employees': 10}\n",
    "}"
   ]
  },
  {
   "cell_type": "code",
   "execution_count": 18,
   "metadata": {},
   "outputs": [
    {
     "data": {
      "text/plain": [
       "'Alice'"
      ]
     },
     "execution_count": 18,
     "metadata": {},
     "output_type": "execute_result"
    }
   ],
   "source": [
    "company['HR']['manager']"
   ]
  },
  {
   "cell_type": "markdown",
   "metadata": {},
   "source": [
    "### Exercise"
   ]
  },
  {
   "cell_type": "markdown",
   "metadata": {},
   "source": [
    "### Exercise 1"
   ]
  },
  {
   "cell_type": "code",
   "execution_count": 19,
   "metadata": {},
   "outputs": [],
   "source": [
    "books=[\n",
    "    {'title':'Book1','author':'Author1','genre':'Fiction'},\n",
    "    {'title':'Book2','author':'Author2','genre':'Non-Fiction'}\n",
    "]\n",
    "\n",
    "authors={\n",
    "    'Author1': {'Book1'},\n",
    "    'Author2': {'Book2'}\n",
    "}\n",
    "\n",
    "genres={\n",
    "    'Fiction': {'Book1'},\n",
    "    'Non-Fiction': {'Book2'}\n",
    "}"
   ]
  },
  {
   "cell_type": "code",
   "execution_count": 20,
   "metadata": {},
   "outputs": [
    {
     "data": {
      "text/plain": [
       "[{'title': 'Book1', 'author': 'Author1', 'genre': 'Fiction'},\n",
       " {'title': 'Book2', 'author': 'Author2', 'genre': 'Non-Fiction'},\n",
       " {'title': 'Book3', 'author': 'Author1', 'genre': 'Fiction'}]"
      ]
     },
     "execution_count": 20,
     "metadata": {},
     "output_type": "execute_result"
    }
   ],
   "source": [
    "#Add a new book with its author and genre\n",
    "new_book = {'title': 'Book3', 'author': 'Author1', 'genre': 'Fiction'}\n",
    "books.append(new_book)\n",
    "books"
   ]
  },
  {
   "cell_type": "code",
   "execution_count": 21,
   "metadata": {},
   "outputs": [],
   "source": [
    "# Update the authors and genres dictionaries\n",
    "\n",
    "# Update the authors dictionary\n",
    "if new_book['author'] in authors:\n",
    "    authors[new_book['author']].add(new_book['title'])\n",
    "else:\n",
    "    authors[new_book['author']] = {new_book['title']}\n",
    "\n",
    "# Update the genres dictionary\n",
    "if new_book['genre'] in genres:\n",
    "    genres[new_book['genre']].add(new_book['genre'])\n",
    "else:\n",
    "    genres[new_book['genre']] = {new_book['genre']}"
   ]
  },
  {
   "cell_type": "code",
   "execution_count": 22,
   "metadata": {},
   "outputs": [
    {
     "data": {
      "text/plain": [
       "{'Author1': {'Book1', 'Book3'}, 'Author2': {'Book2'}}"
      ]
     },
     "execution_count": 22,
     "metadata": {},
     "output_type": "execute_result"
    }
   ],
   "source": [
    "authors"
   ]
  },
  {
   "cell_type": "code",
   "execution_count": 23,
   "metadata": {},
   "outputs": [
    {
     "data": {
      "text/plain": [
       "{'Fiction': {'Book1', 'Fiction'}, 'Non-Fiction': {'Book2'}}"
      ]
     },
     "execution_count": 23,
     "metadata": {},
     "output_type": "execute_result"
    }
   ],
   "source": [
    "genres"
   ]
  },
  {
   "cell_type": "code",
   "execution_count": 24,
   "metadata": {},
   "outputs": [
    {
     "name": "stdout",
     "output_type": "stream",
     "text": [
      "Books under 'Fiction': {'Book1', 'Book3'}\n"
     ]
    }
   ],
   "source": [
    "fiction_books = genres.get('Fiction', set())\n",
    "print(\"Books under 'Fiction':\", fiction_books)"
   ]
  },
  {
   "cell_type": "markdown",
   "metadata": {},
   "source": [
    "### Exercise 2"
   ]
  },
  {
   "cell_type": "code",
   "execution_count": 24,
   "metadata": {},
   "outputs": [],
   "source": [
    "sales=[\n",
    "    {'product':'Product1','region':'North','sales': 100},\n",
    "    {'product':'Product2','region':'South','sales': 150}\n",
    "]\n",
    "\n",
    "region_sales={\n",
    "    'North': {'Product1': 100},\n",
    "    'South': {'Product2': 150}\n",
    "}"
   ]
  },
  {
   "cell_type": "code",
   "execution_count": 25,
   "metadata": {},
   "outputs": [
    {
     "data": {
      "text/plain": [
       "[{'product': 'Product1', 'region': 'North', 'sales': 100},\n",
       " {'product': 'Product2', 'region': 'South', 'sales': 150},\n",
       " {'product': 'Product3', 'region': 'South', 'sales': 200}]"
      ]
     },
     "execution_count": 25,
     "metadata": {},
     "output_type": "execute_result"
    }
   ],
   "source": [
    "new_sales_record = {'product':'Product3','region':'South','sales': 200}\n",
    "sales.append(new_sales_record)\n",
    "sales"
   ]
  },
  {
   "cell_type": "code",
   "execution_count": 26,
   "metadata": {},
   "outputs": [],
   "source": [
    "# Update the region_sales dictionary to include the new sales data \n",
    "region = new_sales_record['region']\n",
    "product = new_sales_record['product']\n",
    "sales_amount = new_sales_record['sales']\n",
    "\n",
    "if region not in region_sales:\n",
    "    region_sales[region] = {product: sales_amount}\n",
    "else:\n",
    "    region_sales[region][product] = sales_amount"
   ]
  },
  {
   "cell_type": "code",
   "execution_count": 27,
   "metadata": {},
   "outputs": [
    {
     "data": {
      "text/plain": [
       "{'North': {'Product1': 100}, 'South': {'Product2': 150, 'Product3': 200}}"
      ]
     },
     "execution_count": 27,
     "metadata": {},
     "output_type": "execute_result"
    }
   ],
   "source": [
    "region_sales"
   ]
  },
  {
   "cell_type": "code",
   "execution_count": 28,
   "metadata": {},
   "outputs": [
    {
     "data": {
      "text/plain": [
       "{'North': 100, 'South': 350}"
      ]
     },
     "execution_count": 28,
     "metadata": {},
     "output_type": "execute_result"
    }
   ],
   "source": [
    "# Calculate the total sales for each region\n",
    "\n",
    "total_sales_by_region = {}\n",
    "\n",
    "for region, products in region_sales.items():\n",
    "    total_sales_by_region[region] = sum(products.values())\n",
    "\n",
    "total_sales_by_region"
   ]
  },
  {
   "cell_type": "markdown",
   "metadata": {},
   "source": [
    "### Exercise 3"
   ]
  },
  {
   "cell_type": "code",
   "execution_count": 29,
   "metadata": {},
   "outputs": [],
   "source": [
    "students=[\n",
    "    {'name':'Alice','grades': {'Math':'A','Science':'B'}},\n",
    "    {'name':'Bob','grades': {'Math':'B','Science':'A'}}\n",
    "]\n",
    "\n",
    "subjects={\n",
    "    'Math': ['Alice','Bob'],\n",
    "    'Science': ['Alice','Bob']\n",
    "}"
   ]
  },
  {
   "cell_type": "code",
   "execution_count": 30,
   "metadata": {},
   "outputs": [],
   "source": [
    "# Add a new student with their grades to the studentslist\n",
    "new_student = {'name': 'Charlie', 'grades': {'Math': 'A', 'Science': 'C'}}\n",
    "students.append(new_student)"
   ]
  },
  {
   "cell_type": "code",
   "execution_count": 31,
   "metadata": {},
   "outputs": [
    {
     "data": {
      "text/plain": [
       "[{'name': 'Alice', 'grades': {'Math': 'A', 'Science': 'B'}},\n",
       " {'name': 'Bob', 'grades': {'Math': 'B', 'Science': 'A'}},\n",
       " {'name': 'Charlie', 'grades': {'Math': 'A', 'Science': 'C'}}]"
      ]
     },
     "execution_count": 31,
     "metadata": {},
     "output_type": "execute_result"
    }
   ],
   "source": [
    "students"
   ]
  },
  {
   "cell_type": "code",
   "execution_count": 32,
   "metadata": {},
   "outputs": [],
   "source": [
    "# Update the subjects dictionary to include the new student\n",
    "\n",
    "for subject in new_student['grades']:\n",
    "    if subject in subjects:\n",
    "        subjects[subject].append('Charlie')\n",
    "    else:\n",
    "        subjects[subject] = ['Charlie']"
   ]
  },
  {
   "cell_type": "code",
   "execution_count": 33,
   "metadata": {},
   "outputs": [
    {
     "data": {
      "text/plain": [
       "{'Math': ['Alice', 'Bob', 'Charlie'], 'Science': ['Alice', 'Bob', 'Charlie']}"
      ]
     },
     "execution_count": 33,
     "metadata": {},
     "output_type": "execute_result"
    }
   ],
   "source": [
    "subjects"
   ]
  },
  {
   "cell_type": "code",
   "execution_count": 35,
   "metadata": {},
   "outputs": [
    {
     "name": "stdout",
     "output_type": "stream",
     "text": [
      "Alice - Math Grades : A\n",
      "Bob - Math Grades : B\n",
      "Charlie - Math Grades : A\n"
     ]
    }
   ],
   "source": [
    "#  Print the list of all students and their grades for ‘Math’\n",
    "for student in students:\n",
    "    print(f\"{student['name']} - Math Grades : {student['grades']['Math']}\")"
   ]
  },
  {
   "cell_type": "code",
   "execution_count": null,
   "metadata": {},
   "outputs": [],
   "source": []
  }
 ],
 "metadata": {
  "kernelspec": {
   "display_name": "Python 3",
   "language": "python",
   "name": "python3"
  },
  "language_info": {
   "codemirror_mode": {
    "name": "ipython",
    "version": 3
   },
   "file_extension": ".py",
   "mimetype": "text/x-python",
   "name": "python",
   "nbconvert_exporter": "python",
   "pygments_lexer": "ipython3",
   "version": "3.12.4"
  }
 },
 "nbformat": 4,
 "nbformat_minor": 2
}
