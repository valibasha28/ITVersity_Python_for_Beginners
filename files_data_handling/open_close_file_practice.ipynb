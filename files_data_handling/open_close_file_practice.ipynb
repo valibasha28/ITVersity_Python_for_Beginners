{
 "cells": [
  {
   "cell_type": "code",
   "execution_count": 3,
   "metadata": {},
   "outputs": [
    {
     "data": {
      "text/plain": [
       "35"
      ]
     },
     "execution_count": 3,
     "metadata": {},
     "output_type": "execute_result"
    }
   ],
   "source": [
    "file_object = open('practice.txt', 'w')\n",
    "file_object.write('Hello, this is a test file.')\n",
    "file_object.write('\\nIt contains multiple lines of text')"
   ]
  },
  {
   "cell_type": "code",
   "execution_count": 4,
   "metadata": {},
   "outputs": [],
   "source": [
    "file_object.close()"
   ]
  },
  {
   "cell_type": "code",
   "execution_count": 5,
   "metadata": {},
   "outputs": [],
   "source": [
    "file_object = open('practice.txt', 'a')\n",
    "file_object.write('\\nThis line is added in append mode')\n",
    "file_object.close()"
   ]
  },
  {
   "cell_type": "code",
   "execution_count": 8,
   "metadata": {},
   "outputs": [
    {
     "name": "stdout",
     "output_type": "stream",
     "text": [
      "['Hello, this is a test file.\\n', 'It contains multiple lines of text\\n', 'This line is added in append mode']\n"
     ]
    }
   ],
   "source": [
    "with open('practice.txt', 'r') as file_object:\n",
    "    print(file_object.readlines())"
   ]
  },
  {
   "cell_type": "code",
   "execution_count": 10,
   "metadata": {},
   "outputs": [],
   "source": [
    "with open('with_statement.txt', 'w') as file:\n",
    "    file.write('This file is created using the with statement')\n",
    "    file.write('\\nThe with statement ensures the file is properly closed.')"
   ]
  },
  {
   "cell_type": "code",
   "execution_count": null,
   "metadata": {},
   "outputs": [],
   "source": []
  }
 ],
 "metadata": {
  "kernelspec": {
   "display_name": "Python 3",
   "language": "python",
   "name": "python3"
  },
  "language_info": {
   "codemirror_mode": {
    "name": "ipython",
    "version": 3
   },
   "file_extension": ".py",
   "mimetype": "text/x-python",
   "name": "python",
   "nbconvert_exporter": "python",
   "pygments_lexer": "ipython3",
   "version": "3.12.4"
  }
 },
 "nbformat": 4,
 "nbformat_minor": 2
}
