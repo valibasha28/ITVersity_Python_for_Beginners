{
 "cells": [
  {
   "cell_type": "code",
   "execution_count": 14,
   "metadata": {},
   "outputs": [],
   "source": [
    "import csv"
   ]
  },
  {
   "cell_type": "code",
   "execution_count": 15,
   "metadata": {},
   "outputs": [
    {
     "name": "stdout",
     "output_type": "stream",
     "text": [
      "['Name', 'Age', 'City']\n",
      "['Alice', '25', 'New Jersey']\n",
      "['Bob', '20', 'New York']\n",
      "['Dave', '35', 'Chicago']\n"
     ]
    }
   ],
   "source": [
    "with open('people.csv', 'r') as file:\n",
    "    reader = csv.reader(file)\n",
    "    for row in reader:\n",
    "        print(row)"
   ]
  },
  {
   "cell_type": "code",
   "execution_count": 16,
   "metadata": {},
   "outputs": [
    {
     "name": "stdout",
     "output_type": "stream",
     "text": [
      "Alice 25 New Jersey\n",
      "Bob 20 New York\n",
      "Dave 35 Chicago\n"
     ]
    }
   ],
   "source": [
    "with open('people.csv', 'r') as file:\n",
    "    reader = csv.DictReader(file)\n",
    "    for row in reader:\n",
    "        print(row['Name'], row['Age'], row['City'])"
   ]
  },
  {
   "cell_type": "code",
   "execution_count": 17,
   "metadata": {},
   "outputs": [
    {
     "name": "stdout",
     "output_type": "stream",
     "text": [
      "25\n",
      "20\n",
      "35\n"
     ]
    }
   ],
   "source": [
    "with open('people.csv', 'r') as file:\n",
    "    reader = csv.DictReader(file)\n",
    "    for row in reader:\n",
    "        print(int(row['Age']))"
   ]
  },
  {
   "cell_type": "code",
   "execution_count": 18,
   "metadata": {},
   "outputs": [
    {
     "name": "stdout",
     "output_type": "stream",
     "text": [
      "[('Alice', 25), ('Bob', 20), ('Dave', 35)]\n"
     ]
    }
   ],
   "source": [
    "with open('people.csv', 'r') as file:\n",
    "    reader = csv.DictReader(file)\n",
    "    person_ages = [(row['Name'], int(row['Age'])) for row in reader]\n",
    "    print(person_ages)"
   ]
  },
  {
   "cell_type": "code",
   "execution_count": 19,
   "metadata": {},
   "outputs": [],
   "source": [
    "rows = [['Name', 'Age', 'City'],\n",
    "        ['Alice', 25, 'New York'],\n",
    "        ['Bob', 28, 'New Jersey'],\n",
    "        ['Charlie', 22, 'Denver'],\n",
    "        ['Dave', 35, 'Chicago']]"
   ]
  },
  {
   "cell_type": "code",
   "execution_count": 20,
   "metadata": {},
   "outputs": [],
   "source": [
    "with open('people.csv', 'w', newline='') as file:\n",
    "    writer = csv.writer(file)\n",
    "    writer.writerows(rows)"
   ]
  },
  {
   "cell_type": "code",
   "execution_count": 21,
   "metadata": {},
   "outputs": [],
   "source": [
    "rows = [{'Name':'Alice', 'Age': 25, 'City':'New Jersey'},\n",
    "        {'Name':'Bob', 'Age': 20, 'City':'New York'},\n",
    "        {'Name':'Dave', 'Age': 35, 'City':'Chicago'},]"
   ]
  },
  {
   "cell_type": "code",
   "execution_count": 22,
   "metadata": {},
   "outputs": [],
   "source": [
    "with open('people.csv', 'w', newline='') as file:\n",
    "    fieldnames = ['Name', 'Age', 'City']\n",
    "    writer = csv.DictWriter(file, fieldnames=fieldnames)\n",
    "    writer.writeheader()\n",
    "    writer.writerows(rows)"
   ]
  },
  {
   "cell_type": "markdown",
   "metadata": {},
   "source": [
    "## Exercise"
   ]
  },
  {
   "cell_type": "code",
   "execution_count": 24,
   "metadata": {},
   "outputs": [
    {
     "name": "stdout",
     "output_type": "stream",
     "text": [
      "['Name', 'Age', 'Department']\n",
      "['John', '28', 'Sales']\n",
      "['Jane', '34', 'Marketing']\n",
      "['Dave', '45', 'HR']\n"
     ]
    }
   ],
   "source": [
    "with open('data.csv', 'r') as file:\n",
    "    reader = csv.reader(file)\n",
    "    for row in reader:\n",
    "        print(row)"
   ]
  },
  {
   "cell_type": "code",
   "execution_count": 25,
   "metadata": {},
   "outputs": [
    {
     "name": "stdout",
     "output_type": "stream",
     "text": [
      "John 28 Sales\n",
      "Jane 34 Marketing\n",
      "Dave 45 HR\n"
     ]
    }
   ],
   "source": [
    "with open('data.csv', 'r') as file:\n",
    "    reader = csv.DictReader(file)\n",
    "    for row in reader:\n",
    "        print(row['Name'], row['Age'], row['Department'])"
   ]
  },
  {
   "cell_type": "code",
   "execution_count": 26,
   "metadata": {},
   "outputs": [],
   "source": [
    "rows = [['Name','Age','City'],\n",
    "        ['Emily', 22,'Boston'],\n",
    "        ['Michael', 32,'San Francisco'],\n",
    "        ['Sarah', 29,'Seattle']]"
   ]
  },
  {
   "cell_type": "code",
   "execution_count": 27,
   "metadata": {},
   "outputs": [],
   "source": [
    "with open('cities.csv', 'w', newline='') as file:\n",
    "    writer = csv.writer(file)\n",
    "    writer.writerows(rows)"
   ]
  },
  {
   "cell_type": "code",
   "execution_count": 28,
   "metadata": {},
   "outputs": [],
   "source": [
    "data=[{'Name':'Emily','Age': 22,'City':'Boston'},\n",
    "      {'Name':'Michael','Age': 32,'City':'San Francisco'},\n",
    "      {'Name':'Sarah','Age': 29,'City':'Seattle'}]"
   ]
  },
  {
   "cell_type": "code",
   "execution_count": 29,
   "metadata": {},
   "outputs": [],
   "source": [
    "with open('cities.csv', 'w', newline='') as file:\n",
    "    fieldnames = ['Name', 'Age', 'City']\n",
    "    \n",
    "    writer = csv.DictWriter(file, fieldnames=fieldnames)\n",
    "\n",
    "    writer.writeheader()\n",
    "    writer.writerows(data)"
   ]
  },
  {
   "cell_type": "code",
   "execution_count": null,
   "metadata": {},
   "outputs": [],
   "source": []
  }
 ],
 "metadata": {
  "kernelspec": {
   "display_name": "Python 3",
   "language": "python",
   "name": "python3"
  },
  "language_info": {
   "codemirror_mode": {
    "name": "ipython",
    "version": 3
   },
   "file_extension": ".py",
   "mimetype": "text/x-python",
   "name": "python",
   "nbconvert_exporter": "python",
   "pygments_lexer": "ipython3",
   "version": "3.12.4"
  }
 },
 "nbformat": 4,
 "nbformat_minor": 2
}
